{
 "cells": [
  {
   "cell_type": "code",
   "execution_count": 1,
   "metadata": {},
   "outputs": [],
   "source": [
    "from sklearn.model_selection import train_test_split as tts\n",
    "import numpy as np\n",
    "import pandas as pd\n",
    "import matplotlib.pyplot as plt\n",
    "from keras.models import Sequential\n",
    "from keras.layers import Conv1D,BatchNormalization\n",
    "from keras.layers import Dense,MaxPool1D,Dropout,Flatten\n",
    "from keras.optimizers import Adam\n",
    "from sklearn.preprocessing import StandardScaler"
   ]
  },
  {
   "cell_type": "code",
   "execution_count": 2,
   "metadata": {},
   "outputs": [],
   "source": [
    "data=pd.read_csv('data.csv')"
   ]
  },
  {
   "cell_type": "code",
   "execution_count": 3,
   "metadata": {},
   "outputs": [
    {
     "data": {
      "text/html": [
       "<div>\n",
       "<style scoped>\n",
       "    .dataframe tbody tr th:only-of-type {\n",
       "        vertical-align: middle;\n",
       "    }\n",
       "\n",
       "    .dataframe tbody tr th {\n",
       "        vertical-align: top;\n",
       "    }\n",
       "\n",
       "    .dataframe thead th {\n",
       "        text-align: right;\n",
       "    }\n",
       "</style>\n",
       "<table border=\"1\" class=\"dataframe\">\n",
       "  <thead>\n",
       "    <tr style=\"text-align: right;\">\n",
       "      <th></th>\n",
       "      <th>id</th>\n",
       "      <th>diagnosis</th>\n",
       "      <th>radius_mean</th>\n",
       "      <th>texture_mean</th>\n",
       "      <th>perimeter_mean</th>\n",
       "      <th>area_mean</th>\n",
       "      <th>smoothness_mean</th>\n",
       "      <th>compactness_mean</th>\n",
       "      <th>concavity_mean</th>\n",
       "      <th>concave points_mean</th>\n",
       "      <th>...</th>\n",
       "      <th>texture_worst</th>\n",
       "      <th>perimeter_worst</th>\n",
       "      <th>area_worst</th>\n",
       "      <th>smoothness_worst</th>\n",
       "      <th>compactness_worst</th>\n",
       "      <th>concavity_worst</th>\n",
       "      <th>concave points_worst</th>\n",
       "      <th>symmetry_worst</th>\n",
       "      <th>fractal_dimension_worst</th>\n",
       "      <th>Unnamed: 32</th>\n",
       "    </tr>\n",
       "  </thead>\n",
       "  <tbody>\n",
       "    <tr>\n",
       "      <th>0</th>\n",
       "      <td>842302</td>\n",
       "      <td>M</td>\n",
       "      <td>17.99</td>\n",
       "      <td>10.38</td>\n",
       "      <td>122.80</td>\n",
       "      <td>1001.0</td>\n",
       "      <td>0.11840</td>\n",
       "      <td>0.27760</td>\n",
       "      <td>0.3001</td>\n",
       "      <td>0.14710</td>\n",
       "      <td>...</td>\n",
       "      <td>17.33</td>\n",
       "      <td>184.60</td>\n",
       "      <td>2019.0</td>\n",
       "      <td>0.1622</td>\n",
       "      <td>0.6656</td>\n",
       "      <td>0.7119</td>\n",
       "      <td>0.2654</td>\n",
       "      <td>0.4601</td>\n",
       "      <td>0.11890</td>\n",
       "      <td>NaN</td>\n",
       "    </tr>\n",
       "    <tr>\n",
       "      <th>1</th>\n",
       "      <td>842517</td>\n",
       "      <td>M</td>\n",
       "      <td>20.57</td>\n",
       "      <td>17.77</td>\n",
       "      <td>132.90</td>\n",
       "      <td>1326.0</td>\n",
       "      <td>0.08474</td>\n",
       "      <td>0.07864</td>\n",
       "      <td>0.0869</td>\n",
       "      <td>0.07017</td>\n",
       "      <td>...</td>\n",
       "      <td>23.41</td>\n",
       "      <td>158.80</td>\n",
       "      <td>1956.0</td>\n",
       "      <td>0.1238</td>\n",
       "      <td>0.1866</td>\n",
       "      <td>0.2416</td>\n",
       "      <td>0.1860</td>\n",
       "      <td>0.2750</td>\n",
       "      <td>0.08902</td>\n",
       "      <td>NaN</td>\n",
       "    </tr>\n",
       "    <tr>\n",
       "      <th>2</th>\n",
       "      <td>84300903</td>\n",
       "      <td>M</td>\n",
       "      <td>19.69</td>\n",
       "      <td>21.25</td>\n",
       "      <td>130.00</td>\n",
       "      <td>1203.0</td>\n",
       "      <td>0.10960</td>\n",
       "      <td>0.15990</td>\n",
       "      <td>0.1974</td>\n",
       "      <td>0.12790</td>\n",
       "      <td>...</td>\n",
       "      <td>25.53</td>\n",
       "      <td>152.50</td>\n",
       "      <td>1709.0</td>\n",
       "      <td>0.1444</td>\n",
       "      <td>0.4245</td>\n",
       "      <td>0.4504</td>\n",
       "      <td>0.2430</td>\n",
       "      <td>0.3613</td>\n",
       "      <td>0.08758</td>\n",
       "      <td>NaN</td>\n",
       "    </tr>\n",
       "    <tr>\n",
       "      <th>3</th>\n",
       "      <td>84348301</td>\n",
       "      <td>M</td>\n",
       "      <td>11.42</td>\n",
       "      <td>20.38</td>\n",
       "      <td>77.58</td>\n",
       "      <td>386.1</td>\n",
       "      <td>0.14250</td>\n",
       "      <td>0.28390</td>\n",
       "      <td>0.2414</td>\n",
       "      <td>0.10520</td>\n",
       "      <td>...</td>\n",
       "      <td>26.50</td>\n",
       "      <td>98.87</td>\n",
       "      <td>567.7</td>\n",
       "      <td>0.2098</td>\n",
       "      <td>0.8663</td>\n",
       "      <td>0.6869</td>\n",
       "      <td>0.2575</td>\n",
       "      <td>0.6638</td>\n",
       "      <td>0.17300</td>\n",
       "      <td>NaN</td>\n",
       "    </tr>\n",
       "    <tr>\n",
       "      <th>4</th>\n",
       "      <td>84358402</td>\n",
       "      <td>M</td>\n",
       "      <td>20.29</td>\n",
       "      <td>14.34</td>\n",
       "      <td>135.10</td>\n",
       "      <td>1297.0</td>\n",
       "      <td>0.10030</td>\n",
       "      <td>0.13280</td>\n",
       "      <td>0.1980</td>\n",
       "      <td>0.10430</td>\n",
       "      <td>...</td>\n",
       "      <td>16.67</td>\n",
       "      <td>152.20</td>\n",
       "      <td>1575.0</td>\n",
       "      <td>0.1374</td>\n",
       "      <td>0.2050</td>\n",
       "      <td>0.4000</td>\n",
       "      <td>0.1625</td>\n",
       "      <td>0.2364</td>\n",
       "      <td>0.07678</td>\n",
       "      <td>NaN</td>\n",
       "    </tr>\n",
       "  </tbody>\n",
       "</table>\n",
       "<p>5 rows × 33 columns</p>\n",
       "</div>"
      ],
      "text/plain": [
       "         id diagnosis  radius_mean  texture_mean  perimeter_mean  area_mean  \\\n",
       "0    842302         M        17.99         10.38          122.80     1001.0   \n",
       "1    842517         M        20.57         17.77          132.90     1326.0   \n",
       "2  84300903         M        19.69         21.25          130.00     1203.0   \n",
       "3  84348301         M        11.42         20.38           77.58      386.1   \n",
       "4  84358402         M        20.29         14.34          135.10     1297.0   \n",
       "\n",
       "   smoothness_mean  compactness_mean  concavity_mean  concave points_mean  \\\n",
       "0          0.11840           0.27760          0.3001              0.14710   \n",
       "1          0.08474           0.07864          0.0869              0.07017   \n",
       "2          0.10960           0.15990          0.1974              0.12790   \n",
       "3          0.14250           0.28390          0.2414              0.10520   \n",
       "4          0.10030           0.13280          0.1980              0.10430   \n",
       "\n",
       "   ...  texture_worst  perimeter_worst  area_worst  smoothness_worst  \\\n",
       "0  ...          17.33           184.60      2019.0            0.1622   \n",
       "1  ...          23.41           158.80      1956.0            0.1238   \n",
       "2  ...          25.53           152.50      1709.0            0.1444   \n",
       "3  ...          26.50            98.87       567.7            0.2098   \n",
       "4  ...          16.67           152.20      1575.0            0.1374   \n",
       "\n",
       "   compactness_worst  concavity_worst  concave points_worst  symmetry_worst  \\\n",
       "0             0.6656           0.7119                0.2654          0.4601   \n",
       "1             0.1866           0.2416                0.1860          0.2750   \n",
       "2             0.4245           0.4504                0.2430          0.3613   \n",
       "3             0.8663           0.6869                0.2575          0.6638   \n",
       "4             0.2050           0.4000                0.1625          0.2364   \n",
       "\n",
       "   fractal_dimension_worst  Unnamed: 32  \n",
       "0                  0.11890          NaN  \n",
       "1                  0.08902          NaN  \n",
       "2                  0.08758          NaN  \n",
       "3                  0.17300          NaN  \n",
       "4                  0.07678          NaN  \n",
       "\n",
       "[5 rows x 33 columns]"
      ]
     },
     "execution_count": 3,
     "metadata": {},
     "output_type": "execute_result"
    }
   ],
   "source": [
    "# 5 values from of data\n",
    "data.head()"
   ]
  },
  {
   "cell_type": "code",
   "execution_count": 4,
   "metadata": {},
   "outputs": [
    {
     "name": "stdout",
     "output_type": "stream",
     "text": [
      "<class 'pandas.core.frame.DataFrame'>\n",
      "RangeIndex: 569 entries, 0 to 568\n",
      "Data columns (total 33 columns):\n",
      " #   Column                   Non-Null Count  Dtype  \n",
      "---  ------                   --------------  -----  \n",
      " 0   id                       569 non-null    int64  \n",
      " 1   diagnosis                569 non-null    object \n",
      " 2   radius_mean              569 non-null    float64\n",
      " 3   texture_mean             569 non-null    float64\n",
      " 4   perimeter_mean           569 non-null    float64\n",
      " 5   area_mean                569 non-null    float64\n",
      " 6   smoothness_mean          569 non-null    float64\n",
      " 7   compactness_mean         569 non-null    float64\n",
      " 8   concavity_mean           569 non-null    float64\n",
      " 9   concave points_mean      569 non-null    float64\n",
      " 10  symmetry_mean            569 non-null    float64\n",
      " 11  fractal_dimension_mean   569 non-null    float64\n",
      " 12  radius_se                569 non-null    float64\n",
      " 13  texture_se               569 non-null    float64\n",
      " 14  perimeter_se             569 non-null    float64\n",
      " 15  area_se                  569 non-null    float64\n",
      " 16  smoothness_se            569 non-null    float64\n",
      " 17  compactness_se           569 non-null    float64\n",
      " 18  concavity_se             569 non-null    float64\n",
      " 19  concave points_se        569 non-null    float64\n",
      " 20  symmetry_se              569 non-null    float64\n",
      " 21  fractal_dimension_se     569 non-null    float64\n",
      " 22  radius_worst             569 non-null    float64\n",
      " 23  texture_worst            569 non-null    float64\n",
      " 24  perimeter_worst          569 non-null    float64\n",
      " 25  area_worst               569 non-null    float64\n",
      " 26  smoothness_worst         569 non-null    float64\n",
      " 27  compactness_worst        569 non-null    float64\n",
      " 28  concavity_worst          569 non-null    float64\n",
      " 29  concave points_worst     569 non-null    float64\n",
      " 30  symmetry_worst           569 non-null    float64\n",
      " 31  fractal_dimension_worst  569 non-null    float64\n",
      " 32  Unnamed: 32              0 non-null      float64\n",
      "dtypes: float64(31), int64(1), object(1)\n",
      "memory usage: 146.8+ KB\n"
     ]
    }
   ],
   "source": [
    "# information about the data\n",
    "data.info()"
   ]
  },
  {
   "cell_type": "code",
   "execution_count": 5,
   "metadata": {},
   "outputs": [
    {
     "name": "stdout",
     "output_type": "stream",
     "text": [
      "Index(['diagnosis', 'radius_mean', 'texture_mean', 'perimeter_mean',\n",
      "       'area_mean', 'smoothness_mean', 'compactness_mean', 'concavity_mean',\n",
      "       'concave points_mean', 'symmetry_mean', 'fractal_dimension_mean',\n",
      "       'radius_se', 'texture_se', 'perimeter_se', 'area_se', 'smoothness_se',\n",
      "       'compactness_se', 'concavity_se', 'concave points_se', 'symmetry_se',\n",
      "       'fractal_dimension_se', 'radius_worst', 'texture_worst',\n",
      "       'perimeter_worst', 'area_worst', 'smoothness_worst',\n",
      "       'compactness_worst', 'concavity_worst', 'concave points_worst',\n",
      "       'symmetry_worst', 'fractal_dimension_worst'],\n",
      "      dtype='object')\n"
     ]
    }
   ],
   "source": [
    "data=data.drop(columns=['id','Unnamed: 32'],axis=1)\n",
    "print(data.columns)"
   ]
  },
  {
   "cell_type": "code",
   "execution_count": 6,
   "metadata": {},
   "outputs": [
    {
     "data": {
      "text/plain": [
       "B    357\n",
       "M    212\n",
       "Name: diagnosis, dtype: int64"
      ]
     },
     "execution_count": 6,
     "metadata": {},
     "output_type": "execute_result"
    }
   ],
   "source": [
    "data['diagnosis'].value_counts()"
   ]
  },
  {
   "cell_type": "code",
   "execution_count": 9,
   "metadata": {},
   "outputs": [
    {
     "name": "stdout",
     "output_type": "stream",
     "text": [
      "(569, 30) (569,)\n"
     ]
    }
   ],
   "source": [
    "param={'B':0,'M':1}\n",
    "y=data['diagnosis'].map(param)\n",
    "X=data.drop(columns=['diagnosis'],axis=1)\n",
    "print(X.shape,y.shape)"
   ]
  },
  {
   "cell_type": "code",
   "execution_count": 10,
   "metadata": {},
   "outputs": [],
   "source": [
    "sc=StandardScaler()\n",
    "X=sc.fit_transform(X)"
   ]
  },
  {
   "cell_type": "code",
   "execution_count": 11,
   "metadata": {},
   "outputs": [
    {
     "name": "stdout",
     "output_type": "stream",
     "text": [
      "(455, 30) (455,)\n",
      "(114, 30) (114,)\n"
     ]
    }
   ],
   "source": [
    "xtrain,xtest,ytrain,ytest=tts(X,y,test_size=0.2,random_state=16)\n",
    "print(xtrain.shape,ytrain.shape)\n",
    "print(xtest.shape,ytest.shape)"
   ]
  },
  {
   "cell_type": "code",
   "execution_count": 12,
   "metadata": {},
   "outputs": [],
   "source": [
    "xtrain=xtrain.reshape(-1,30,1)\n",
    "xtest=xtest.reshape(-1,30,1)"
   ]
  },
  {
   "cell_type": "code",
   "execution_count": 13,
   "metadata": {},
   "outputs": [
    {
     "name": "stdout",
     "output_type": "stream",
     "text": [
      "Model: \"sequential\"\n",
      "_________________________________________________________________\n",
      "Layer (type)                 Output Shape              Param #   \n",
      "=================================================================\n",
      "conv1d (Conv1D)              (None, 29, 32)            96        \n",
      "_________________________________________________________________\n",
      "batch_normalization (BatchNo (None, 29, 32)            128       \n",
      "_________________________________________________________________\n",
      "dropout (Dropout)            (None, 29, 32)            0         \n",
      "_________________________________________________________________\n",
      "conv1d_1 (Conv1D)            (None, 28, 64)            4160      \n",
      "_________________________________________________________________\n",
      "batch_normalization_1 (Batch (None, 28, 64)            256       \n",
      "_________________________________________________________________\n",
      "dropout_1 (Dropout)          (None, 28, 64)            0         \n",
      "_________________________________________________________________\n",
      "flatten (Flatten)            (None, 1792)              0         \n",
      "_________________________________________________________________\n",
      "dense (Dense)                (None, 64)                114752    \n",
      "_________________________________________________________________\n",
      "dropout_2 (Dropout)          (None, 64)                0         \n",
      "_________________________________________________________________\n",
      "dense_1 (Dense)              (None, 1)                 65        \n",
      "=================================================================\n",
      "Total params: 119,457\n",
      "Trainable params: 119,265\n",
      "Non-trainable params: 192\n",
      "_________________________________________________________________\n",
      "None\n"
     ]
    }
   ],
   "source": [
    "epochs=50\n",
    "model=Sequential()\n",
    "model.add(Conv1D(filters=32,kernel_size=2,activation='relu',input_shape=(30,1)))\n",
    "model.add(BatchNormalization())\n",
    "model.add(Dropout(0.3))\n",
    "\n",
    "model.add(Conv1D(filters=64,kernel_size=2,activation='relu',input_shape=(30,1)))\n",
    "model.add(BatchNormalization())\n",
    "model.add(Dropout(0.5))\n",
    "model.add(Flatten())\n",
    "model.add(Dense(64,activation='relu'))\n",
    "model.add(Dropout(0.4))\n",
    "model.add(Dense(1,activation='sigmoid'))\n",
    "print(model.summary())"
   ]
  },
  {
   "cell_type": "code",
   "execution_count": 14,
   "metadata": {},
   "outputs": [],
   "source": [
    "model.compile(optimizer=Adam(lr=0.000005),loss='binary_crossentropy',metrics=['accuracy'])"
   ]
  },
  {
   "cell_type": "code",
   "execution_count": 15,
   "metadata": {},
   "outputs": [
    {
     "name": "stdout",
     "output_type": "stream",
     "text": [
      "Epoch 1/50\n",
      "15/15 [==============================] - ETA: 0s - loss: 0.9618 - accuracy: 0.5538WARNING:tensorflow:Callbacks method `on_test_batch_end` is slow compared to the batch time (batch time: 0.0010s vs `on_test_batch_end` time: 0.0040s). Check your callbacks.\n",
      "15/15 [==============================] - 1s 65ms/step - loss: 0.9618 - accuracy: 0.5538 - val_loss: 0.6808 - val_accuracy: 0.6404\n",
      "Epoch 2/50\n",
      "15/15 [==============================] - 0s 14ms/step - loss: 0.9661 - accuracy: 0.5495 - val_loss: 0.6663 - val_accuracy: 0.6579\n",
      "Epoch 3/50\n",
      "15/15 [==============================] - 0s 14ms/step - loss: 0.9334 - accuracy: 0.5714 - val_loss: 0.6511 - val_accuracy: 0.6491\n",
      "Epoch 4/50\n",
      "15/15 [==============================] - 0s 14ms/step - loss: 0.9610 - accuracy: 0.5956 - val_loss: 0.6367 - val_accuracy: 0.6667\n",
      "Epoch 5/50\n",
      "15/15 [==============================] - 0s 14ms/step - loss: 0.8679 - accuracy: 0.6330 - val_loss: 0.6232 - val_accuracy: 0.6579\n",
      "Epoch 6/50\n",
      "15/15 [==============================] - 0s 16ms/step - loss: 0.8777 - accuracy: 0.6110 - val_loss: 0.6100 - val_accuracy: 0.6667\n",
      "Epoch 7/50\n",
      "15/15 [==============================] - 0s 16ms/step - loss: 0.7801 - accuracy: 0.6440 - val_loss: 0.5969 - val_accuracy: 0.6930\n",
      "Epoch 8/50\n",
      "15/15 [==============================] - 0s 18ms/step - loss: 0.8028 - accuracy: 0.6418 - val_loss: 0.5837 - val_accuracy: 0.7018\n",
      "Epoch 9/50\n",
      "15/15 [==============================] - 0s 18ms/step - loss: 0.7934 - accuracy: 0.6198 - val_loss: 0.5705 - val_accuracy: 0.7193\n",
      "Epoch 10/50\n",
      "15/15 [==============================] - 0s 18ms/step - loss: 0.7442 - accuracy: 0.6681 - val_loss: 0.5572 - val_accuracy: 0.7193\n",
      "Epoch 11/50\n",
      "15/15 [==============================] - 0s 14ms/step - loss: 0.7298 - accuracy: 0.6396 - val_loss: 0.5435 - val_accuracy: 0.7281\n",
      "Epoch 12/50\n",
      "15/15 [==============================] - 0s 14ms/step - loss: 0.6651 - accuracy: 0.7011 - val_loss: 0.5293 - val_accuracy: 0.7544\n",
      "Epoch 13/50\n",
      "15/15 [==============================] - 0s 14ms/step - loss: 0.6652 - accuracy: 0.6901 - val_loss: 0.5144 - val_accuracy: 0.7632\n",
      "Epoch 14/50\n",
      "15/15 [==============================] - 0s 14ms/step - loss: 0.7350 - accuracy: 0.6725 - val_loss: 0.4988 - val_accuracy: 0.7982\n",
      "Epoch 15/50\n",
      "15/15 [==============================] - 0s 14ms/step - loss: 0.6662 - accuracy: 0.6857 - val_loss: 0.4825 - val_accuracy: 0.7982\n",
      "Epoch 16/50\n",
      "15/15 [==============================] - 0s 16ms/step - loss: 0.6663 - accuracy: 0.7099 - val_loss: 0.4665 - val_accuracy: 0.8333\n",
      "Epoch 17/50\n",
      "15/15 [==============================] - 0s 14ms/step - loss: 0.6029 - accuracy: 0.7165 - val_loss: 0.4504 - val_accuracy: 0.8421\n",
      "Epoch 18/50\n",
      "15/15 [==============================] - 0s 14ms/step - loss: 0.6439 - accuracy: 0.7033 - val_loss: 0.4345 - val_accuracy: 0.8421\n",
      "Epoch 19/50\n",
      "15/15 [==============================] - 0s 14ms/step - loss: 0.6135 - accuracy: 0.7385 - val_loss: 0.4182 - val_accuracy: 0.8684\n",
      "Epoch 20/50\n",
      "15/15 [==============================] - 0s 14ms/step - loss: 0.5784 - accuracy: 0.7429 - val_loss: 0.4030 - val_accuracy: 0.8772\n",
      "Epoch 21/50\n",
      "15/15 [==============================] - 0s 14ms/step - loss: 0.6638 - accuracy: 0.7143 - val_loss: 0.3870 - val_accuracy: 0.8772\n",
      "Epoch 22/50\n",
      "15/15 [==============================] - 0s 14ms/step - loss: 0.5798 - accuracy: 0.7538 - val_loss: 0.3721 - val_accuracy: 0.8772\n",
      "Epoch 23/50\n",
      "15/15 [==============================] - 0s 14ms/step - loss: 0.4832 - accuracy: 0.7670 - val_loss: 0.3575 - val_accuracy: 0.8772\n",
      "Epoch 24/50\n",
      "15/15 [==============================] - 0s 14ms/step - loss: 0.4957 - accuracy: 0.7978 - val_loss: 0.3440 - val_accuracy: 0.8947\n",
      "Epoch 25/50\n",
      "15/15 [==============================] - 0s 14ms/step - loss: 0.5103 - accuracy: 0.7670 - val_loss: 0.3314 - val_accuracy: 0.8947\n",
      "Epoch 26/50\n",
      "15/15 [==============================] - 0s 16ms/step - loss: 0.4755 - accuracy: 0.7868 - val_loss: 0.3190 - val_accuracy: 0.9035\n",
      "Epoch 27/50\n",
      "15/15 [==============================] - 0s 14ms/step - loss: 0.5429 - accuracy: 0.7451 - val_loss: 0.3075 - val_accuracy: 0.9035\n",
      "Epoch 28/50\n",
      "15/15 [==============================] - 0s 16ms/step - loss: 0.5696 - accuracy: 0.7560 - val_loss: 0.2964 - val_accuracy: 0.9035\n",
      "Epoch 29/50\n",
      "15/15 [==============================] - 0s 14ms/step - loss: 0.4625 - accuracy: 0.8000 - val_loss: 0.2859 - val_accuracy: 0.9123\n",
      "Epoch 30/50\n",
      "15/15 [==============================] - 0s 15ms/step - loss: 0.4218 - accuracy: 0.8176 - val_loss: 0.2762 - val_accuracy: 0.9298\n",
      "Epoch 31/50\n",
      "15/15 [==============================] - 0s 15ms/step - loss: 0.4749 - accuracy: 0.7956 - val_loss: 0.2674 - val_accuracy: 0.9386\n",
      "Epoch 32/50\n",
      "15/15 [==============================] - 0s 17ms/step - loss: 0.4759 - accuracy: 0.7912 - val_loss: 0.2591 - val_accuracy: 0.9386\n",
      "Epoch 33/50\n",
      "15/15 [==============================] - 0s 18ms/step - loss: 0.4248 - accuracy: 0.7978 - val_loss: 0.2513 - val_accuracy: 0.9474\n",
      "Epoch 34/50\n",
      "15/15 [==============================] - 0s 17ms/step - loss: 0.4947 - accuracy: 0.7912 - val_loss: 0.2438 - val_accuracy: 0.9474\n",
      "Epoch 35/50\n",
      "15/15 [==============================] - 0s 15ms/step - loss: 0.4058 - accuracy: 0.8110 - val_loss: 0.2372 - val_accuracy: 0.9474\n",
      "Epoch 36/50\n",
      "15/15 [==============================] - 0s 17ms/step - loss: 0.4861 - accuracy: 0.7956 - val_loss: 0.2307 - val_accuracy: 0.9474\n",
      "Epoch 37/50\n",
      "15/15 [==============================] - 0s 14ms/step - loss: 0.4418 - accuracy: 0.8066 - val_loss: 0.2251 - val_accuracy: 0.9474\n",
      "Epoch 38/50\n",
      "15/15 [==============================] - 0s 14ms/step - loss: 0.4545 - accuracy: 0.7934 - val_loss: 0.2199 - val_accuracy: 0.9474\n",
      "Epoch 39/50\n",
      "15/15 [==============================] - 0s 14ms/step - loss: 0.4587 - accuracy: 0.8176 - val_loss: 0.2145 - val_accuracy: 0.9474\n",
      "Epoch 40/50\n",
      "15/15 [==============================] - 0s 15ms/step - loss: 0.4615 - accuracy: 0.7824 - val_loss: 0.2093 - val_accuracy: 0.9561\n",
      "Epoch 41/50\n",
      "15/15 [==============================] - 0s 15ms/step - loss: 0.3974 - accuracy: 0.8286 - val_loss: 0.2050 - val_accuracy: 0.9561\n",
      "Epoch 42/50\n",
      "15/15 [==============================] - 0s 15ms/step - loss: 0.3878 - accuracy: 0.8396 - val_loss: 0.2008 - val_accuracy: 0.9561\n",
      "Epoch 43/50\n",
      "15/15 [==============================] - 0s 14ms/step - loss: 0.3921 - accuracy: 0.8330 - val_loss: 0.1965 - val_accuracy: 0.9561\n",
      "Epoch 44/50\n",
      "15/15 [==============================] - 0s 14ms/step - loss: 0.3787 - accuracy: 0.8396 - val_loss: 0.1929 - val_accuracy: 0.9561\n",
      "Epoch 45/50\n",
      "15/15 [==============================] - 0s 14ms/step - loss: 0.4159 - accuracy: 0.8308 - val_loss: 0.1898 - val_accuracy: 0.9561\n",
      "Epoch 46/50\n",
      "15/15 [==============================] - 0s 14ms/step - loss: 0.3810 - accuracy: 0.8308 - val_loss: 0.1868 - val_accuracy: 0.9561\n",
      "Epoch 47/50\n",
      "15/15 [==============================] - 0s 14ms/step - loss: 0.4089 - accuracy: 0.8176 - val_loss: 0.1841 - val_accuracy: 0.9649\n",
      "Epoch 48/50\n",
      "15/15 [==============================] - 0s 15ms/step - loss: 0.4010 - accuracy: 0.8374 - val_loss: 0.1808 - val_accuracy: 0.9649\n",
      "Epoch 49/50\n",
      "15/15 [==============================] - 0s 15ms/step - loss: 0.3677 - accuracy: 0.8308 - val_loss: 0.1779 - val_accuracy: 0.9737\n",
      "Epoch 50/50\n",
      "15/15 [==============================] - 0s 15ms/step - loss: 0.3796 - accuracy: 0.8440 - val_loss: 0.1756 - val_accuracy: 0.9737\n"
     ]
    }
   ],
   "source": [
    "history=model.fit(xtrain,ytrain,epochs=epochs,validation_data=(xtest,ytest))"
   ]
  },
  {
   "cell_type": "code",
   "execution_count": 16,
   "metadata": {},
   "outputs": [
    {
     "data": {
      "image/png": "[encoded data removed]",
      "text/plain": [
       "<Figure size 432x288 with 1 Axes>"
      ]
     },
     "metadata": {
      "needs_background": "light"
     },
     "output_type": "display_data"
    },
    {
     "data": {
      "image/png": "[encoded data removed]",
      "text/plain": [
       "<Figure size 432x288 with 1 Axes>"
      ]
     },
     "metadata": {
      "needs_background": "light"
     },
     "output_type": "display_data"
    }
   ],
   "source": [
    "# making the history plot\n",
    "def plot_learningCurve(history, epoch):\n",
    "  # Plot training & validation accuracy values\n",
    "  epoch_range = range(1, epoch+1)\n",
    "  plt.plot(epoch_range, history.history['accuracy'])\n",
    "  plt.plot(epoch_range, history.history['val_accuracy'])\n",
    "  plt.title('Model accuracy')\n",
    "  plt.ylabel('Accuracy')\n",
    "  plt.xlabel('Epoch')\n",
    "  plt.legend(['Train', 'Val'], loc='upper left')\n",
    "  plt.show()\n",
    "\n",
    "  # Plot training & validation loss values\n",
    "  plt.plot(epoch_range, history.history['loss'])\n",
    "  plt.plot(epoch_range, history.history['val_loss'])\n",
    "  plt.title('Model loss')\n",
    "  plt.ylabel('Loss')\n",
    "  plt.xlabel('Epoch')\n",
    "  plt.legend(['Train', 'Val'], loc='upper left')\n",
    "  plt.show()\n",
    "\n",
    "plot_learningCurve(history, epochs)"
   ]
  },
  {
   "cell_type": "code",
   "execution_count": null,
   "metadata": {},
   "outputs": [],
   "source": []
  }
 ],
 "metadata": {
  "kernelspec": {
   "display_name": "Python 3",
   "language": "python",
   "name": "python3"
  },
  "language_info": {
   "codemirror_mode": {
    "name": "ipython",
    "version": 3
   },
   "file_extension": ".py",
   "mimetype": "text/x-python",
   "name": "python",
   "nbconvert_exporter": "python",
   "pygments_lexer": "ipython3",
   "version": "3.7.9"
  }
 },
 "nbformat": 4,
 "nbformat_minor": 4
}
